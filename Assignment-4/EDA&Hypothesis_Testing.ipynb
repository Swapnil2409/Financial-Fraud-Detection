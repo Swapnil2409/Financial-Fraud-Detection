{
 "cells": [
  {
   "cell_type": "markdown",
   "metadata": {},
   "source": [
    "# **EDA**"
   ]
  },
  {
   "cell_type": "markdown",
   "metadata": {},
   "source": [
    "#### **Install Required Libraries**\n",
    "* pip install pandas numpy"
   ]
  },
  {
   "cell_type": "markdown",
   "metadata": {},
   "source": [
    "## **Loading and Inspecting the Dataset**"
   ]
  },
  {
   "cell_type": "code",
   "execution_count": 1,
   "metadata": {},
   "outputs": [
    {
     "data": {
      "text/html": [
       "<div>\n",
       "<style scoped>\n",
       "    .dataframe tbody tr th:only-of-type {\n",
       "        vertical-align: middle;\n",
       "    }\n",
       "\n",
       "    .dataframe tbody tr th {\n",
       "        vertical-align: top;\n",
       "    }\n",
       "\n",
       "    .dataframe thead th {\n",
       "        text-align: right;\n",
       "    }\n",
       "</style>\n",
       "<table border=\"1\" class=\"dataframe\">\n",
       "  <thead>\n",
       "    <tr style=\"text-align: right;\">\n",
       "      <th></th>\n",
       "      <th>fraud_id</th>\n",
       "      <th>fraud_type</th>\n",
       "      <th>location</th>\n",
       "      <th>date_reported</th>\n",
       "      <th>amount_loss</th>\n",
       "      <th>reported_by</th>\n",
       "      <th>age</th>\n",
       "      <th>channel</th>\n",
       "      <th>is_preventable</th>\n",
       "      <th>fraud_detected_at</th>\n",
       "      <th>risk_score</th>\n",
       "    </tr>\n",
       "  </thead>\n",
       "  <tbody>\n",
       "    <tr>\n",
       "      <th>0</th>\n",
       "      <td>FRAUD-8542623</td>\n",
       "      <td>Payment Fraud</td>\n",
       "      <td>Ontario</td>\n",
       "      <td>2024-04-20</td>\n",
       "      <td>2862.55</td>\n",
       "      <td>employer</td>\n",
       "      <td>38</td>\n",
       "      <td>phone</td>\n",
       "      <td>True</td>\n",
       "      <td>Initiation</td>\n",
       "      <td>0.44</td>\n",
       "    </tr>\n",
       "    <tr>\n",
       "      <th>1</th>\n",
       "      <td>FRAUD-4829236</td>\n",
       "      <td>Payment Fraud</td>\n",
       "      <td>Ontario</td>\n",
       "      <td>2024-07-02</td>\n",
       "      <td>4437.51</td>\n",
       "      <td>victim</td>\n",
       "      <td>56</td>\n",
       "      <td>email</td>\n",
       "      <td>False</td>\n",
       "      <td>Initiation</td>\n",
       "      <td>0.50</td>\n",
       "    </tr>\n",
       "    <tr>\n",
       "      <th>2</th>\n",
       "      <td>FRAUD-2436887</td>\n",
       "      <td>Payment Fraud</td>\n",
       "      <td>Ontario</td>\n",
       "      <td>2023-08-23</td>\n",
       "      <td>2982.91</td>\n",
       "      <td>police</td>\n",
       "      <td>55</td>\n",
       "      <td>phone</td>\n",
       "      <td>True</td>\n",
       "      <td>Initiation</td>\n",
       "      <td>0.29</td>\n",
       "    </tr>\n",
       "    <tr>\n",
       "      <th>3</th>\n",
       "      <td>FRAUD-1250939</td>\n",
       "      <td>Payment Fraud</td>\n",
       "      <td>Ontario</td>\n",
       "      <td>2024-06-04</td>\n",
       "      <td>4168.37</td>\n",
       "      <td>victim</td>\n",
       "      <td>56</td>\n",
       "      <td>phone</td>\n",
       "      <td>True</td>\n",
       "      <td>Completion</td>\n",
       "      <td>0.56</td>\n",
       "    </tr>\n",
       "    <tr>\n",
       "      <th>4</th>\n",
       "      <td>FRAUD-1635556</td>\n",
       "      <td>Payment Fraud</td>\n",
       "      <td>Ontario</td>\n",
       "      <td>2024-05-02</td>\n",
       "      <td>2555.26</td>\n",
       "      <td>victim</td>\n",
       "      <td>75</td>\n",
       "      <td>in-person</td>\n",
       "      <td>False</td>\n",
       "      <td>Processing</td>\n",
       "      <td>0.24</td>\n",
       "    </tr>\n",
       "  </tbody>\n",
       "</table>\n",
       "</div>"
      ],
      "text/plain": [
       "        fraud_id     fraud_type location date_reported  amount_loss  \\\n",
       "0  FRAUD-8542623  Payment Fraud  Ontario    2024-04-20      2862.55   \n",
       "1  FRAUD-4829236  Payment Fraud  Ontario    2024-07-02      4437.51   \n",
       "2  FRAUD-2436887  Payment Fraud  Ontario    2023-08-23      2982.91   \n",
       "3  FRAUD-1250939  Payment Fraud  Ontario    2024-06-04      4168.37   \n",
       "4  FRAUD-1635556  Payment Fraud  Ontario    2024-05-02      2555.26   \n",
       "\n",
       "  reported_by  age    channel  is_preventable fraud_detected_at  risk_score  \n",
       "0    employer   38      phone            True        Initiation        0.44  \n",
       "1      victim   56      email           False        Initiation        0.50  \n",
       "2      police   55      phone            True        Initiation        0.29  \n",
       "3      victim   56      phone            True        Completion        0.56  \n",
       "4      victim   75  in-person           False        Processing        0.24  "
      ]
     },
     "execution_count": 1,
     "metadata": {},
     "output_type": "execute_result"
    }
   ],
   "source": [
    "import pandas as pd\n",
    "import matplotlib.pyplot as plt\n",
    "import seaborn as sns\n",
    "\n",
    "# Load the dataset\n",
    "df = pd.read_csv('./data/synthetic_fraud_ontario.csv')\n",
    "\n",
    "# Display first few rows\n",
    "df.head()\n"
   ]
  },
  {
   "cell_type": "markdown",
   "metadata": {},
   "source": [
    "## **Dataset Overview**\n",
    "\n",
    "\n"
   ]
  },
  {
   "cell_type": "code",
   "execution_count": 2,
   "metadata": {},
   "outputs": [
    {
     "name": "stdout",
     "output_type": "stream",
     "text": [
      "<class 'pandas.core.frame.DataFrame'>\n",
      "RangeIndex: 43680 entries, 0 to 43679\n",
      "Data columns (total 11 columns):\n",
      " #   Column             Non-Null Count  Dtype  \n",
      "---  ------             --------------  -----  \n",
      " 0   fraud_id           43680 non-null  object \n",
      " 1   fraud_type         43680 non-null  object \n",
      " 2   location           43680 non-null  object \n",
      " 3   date_reported      43680 non-null  object \n",
      " 4   amount_loss        43680 non-null  float64\n",
      " 5   reported_by        43680 non-null  object \n",
      " 6   age                43680 non-null  int64  \n",
      " 7   channel            43680 non-null  object \n",
      " 8   is_preventable     43680 non-null  bool   \n",
      " 9   fraud_detected_at  43680 non-null  object \n",
      " 10  risk_score         43680 non-null  float64\n",
      "dtypes: bool(1), float64(2), int64(1), object(7)\n",
      "memory usage: 3.4+ MB\n"
     ]
    }
   ],
   "source": [
    "# View dataset structure and datatypes\n",
    "df.info()\n"
   ]
  },
  {
   "cell_type": "markdown",
   "metadata": {},
   "source": [
    "## **Summary Statistics**"
   ]
  },
  {
   "cell_type": "code",
   "execution_count": 3,
   "metadata": {},
   "outputs": [
    {
     "data": {
      "text/html": [
       "<div>\n",
       "<style scoped>\n",
       "    .dataframe tbody tr th:only-of-type {\n",
       "        vertical-align: middle;\n",
       "    }\n",
       "\n",
       "    .dataframe tbody tr th {\n",
       "        vertical-align: top;\n",
       "    }\n",
       "\n",
       "    .dataframe thead th {\n",
       "        text-align: right;\n",
       "    }\n",
       "</style>\n",
       "<table border=\"1\" class=\"dataframe\">\n",
       "  <thead>\n",
       "    <tr style=\"text-align: right;\">\n",
       "      <th></th>\n",
       "      <th>amount_loss</th>\n",
       "      <th>age</th>\n",
       "      <th>risk_score</th>\n",
       "    </tr>\n",
       "  </thead>\n",
       "  <tbody>\n",
       "    <tr>\n",
       "      <th>count</th>\n",
       "      <td>43680.000000</td>\n",
       "      <td>43680.000000</td>\n",
       "      <td>43680.000000</td>\n",
       "    </tr>\n",
       "    <tr>\n",
       "      <th>mean</th>\n",
       "      <td>8724.876212</td>\n",
       "      <td>49.068063</td>\n",
       "      <td>0.576097</td>\n",
       "    </tr>\n",
       "    <tr>\n",
       "      <th>std</th>\n",
       "      <td>11582.982106</td>\n",
       "      <td>18.193678</td>\n",
       "      <td>0.216174</td>\n",
       "    </tr>\n",
       "    <tr>\n",
       "      <th>min</th>\n",
       "      <td>20.500000</td>\n",
       "      <td>18.000000</td>\n",
       "      <td>0.200000</td>\n",
       "    </tr>\n",
       "    <tr>\n",
       "      <th>25%</th>\n",
       "      <td>1319.485000</td>\n",
       "      <td>33.000000</td>\n",
       "      <td>0.390000</td>\n",
       "    </tr>\n",
       "    <tr>\n",
       "      <th>50%</th>\n",
       "      <td>4089.550000</td>\n",
       "      <td>49.000000</td>\n",
       "      <td>0.580000</td>\n",
       "    </tr>\n",
       "    <tr>\n",
       "      <th>75%</th>\n",
       "      <td>9714.110000</td>\n",
       "      <td>65.000000</td>\n",
       "      <td>0.760000</td>\n",
       "    </tr>\n",
       "    <tr>\n",
       "      <th>max</th>\n",
       "      <td>49990.160000</td>\n",
       "      <td>80.000000</td>\n",
       "      <td>0.950000</td>\n",
       "    </tr>\n",
       "  </tbody>\n",
       "</table>\n",
       "</div>"
      ],
      "text/plain": [
       "        amount_loss           age    risk_score\n",
       "count  43680.000000  43680.000000  43680.000000\n",
       "mean    8724.876212     49.068063      0.576097\n",
       "std    11582.982106     18.193678      0.216174\n",
       "min       20.500000     18.000000      0.200000\n",
       "25%     1319.485000     33.000000      0.390000\n",
       "50%     4089.550000     49.000000      0.580000\n",
       "75%     9714.110000     65.000000      0.760000\n",
       "max    49990.160000     80.000000      0.950000"
      ]
     },
     "execution_count": 3,
     "metadata": {},
     "output_type": "execute_result"
    }
   ],
   "source": [
    "# Summary statistics for numerical columns\n",
    "df.describe()\n"
   ]
  },
  {
   "cell_type": "markdown",
   "metadata": {},
   "source": [
    "## **Visualizing Fraud Distribution**"
   ]
  },
  {
   "cell_type": "markdown",
   "metadata": {},
   "source": [
    "#### **Install Required Libraries**\n",
    "* pip install matplotlib seaborn"
   ]
  },
  {
   "cell_type": "code",
   "execution_count": 4,
   "metadata": {},
   "outputs": [
    {
     "name": "stderr",
     "output_type": "stream",
     "text": [
      "C:\\Users\\Owner\\AppData\\Local\\Temp\\ipykernel_39180\\2820475008.py:3: FutureWarning: \n",
      "\n",
      "Passing `palette` without assigning `hue` is deprecated and will be removed in v0.14.0. Assign the `x` variable to `hue` and set `legend=False` for the same effect.\n",
      "\n",
      "  sns.countplot(data=df, x='fraud_type', order=df['fraud_type'].value_counts().index, palette='Set2')\n"
     ]
    },
    {
     "data": {
      "image/png": "[encoded data removed]",
      "text/plain": [
       "<Figure size 1000x600 with 1 Axes>"
      ]
     },
     "metadata": {},
     "output_type": "display_data"
    }
   ],
   "source": [
    "# Distribution of Fraud Types - Aligned with Step-1\n",
    "plt.figure(figsize=(10, 6))\n",
    "sns.countplot(data=df, x='fraud_type', order=df['fraud_type'].value_counts().index, palette='Set2')\n",
    "plt.title('Distribution of Fraud Types in Ontario')\n",
    "plt.ylabel('Number of Cases')\n",
    "plt.xlabel('Fraud Type')\n",
    "plt.xticks(rotation=45)\n",
    "plt.tight_layout()\n",
    "plt.show()\n"
   ]
  },
  {
   "cell_type": "markdown",
   "metadata": {},
   "source": [
    "## **Average Financial Loss by Fraud Type**"
   ]
  },
  {
   "cell_type": "code",
   "execution_count": 5,
   "metadata": {},
   "outputs": [
    {
     "data": {
      "text/plain": [
       "fraud_type\n",
       "Investment Fraud      27584.326391\n",
       "Government-Related    10335.859702\n",
       "Employment Fraud       8049.357946\n",
       "Identity Fraud         5231.439321\n",
       "Health Fraud           5182.754739\n",
       "Other                  2569.101625\n",
       "Payment Fraud          2550.498021\n",
       "Online Shopping         508.992886\n",
       "Name: amount_loss, dtype: float64"
      ]
     },
     "execution_count": 5,
     "metadata": {},
     "output_type": "execute_result"
    }
   ],
   "source": [
    "# Mean amount lost by fraud type\n",
    "df.groupby('fraud_type')['amount_loss'].mean().sort_values(ascending=False)\n"
   ]
  },
  {
   "cell_type": "markdown",
   "metadata": {},
   "source": [
    "## **Chi-Square Test for Independence**"
   ]
  },
  {
   "cell_type": "markdown",
   "metadata": {},
   "source": [
    "#### **Install Required Libraries**\n",
    "* pip install matplotlib seaborn"
   ]
  },
  {
   "cell_type": "code",
   "execution_count": 7,
   "metadata": {},
   "outputs": [
    {
     "name": "stdout",
     "output_type": "stream",
     "text": [
      "Chi-Square Statistic: 10.91\n",
      "p-value: 0.1424678025544039\n",
      "Degrees of Freedom: 7\n",
      "Fail to Reject Null Hypothesis: Fraud preventability is not dependent on fraud type.\n"
     ]
    }
   ],
   "source": [
    "import scipy.stats as stats\n",
    "\n",
    "# Chi-Square Test between fraud type and preventability\n",
    "contingency = pd.crosstab(df['fraud_type'], df['is_preventable'])\n",
    "chi2, p, dof, expected = stats.chi2_contingency(contingency)\n",
    "\n",
    "print(\"Chi-Square Statistic:\", round(chi2, 2))\n",
    "print(\"p-value:\", p)\n",
    "print(\"Degrees of Freedom:\", dof)\n",
    "\n",
    "if p < 0.05:\n",
    "    print(\"Reject Null Hypothesis: Fraud preventability is dependent on fraud type.\")\n",
    "else:\n",
    "    print(\"Fail to Reject Null Hypothesis: Fraud preventability is not dependent on fraud type.\")\n"
   ]
  },
  {
   "cell_type": "markdown",
   "metadata": {},
   "source": [
    "### **Hypothesis Formulation:**\n",
    "- **H₀ (Null Hypothesis):** Fraud preventability is independent of fraud type.  \n",
    "- **H₁ (Alternative Hypothesis):** Fraud preventability is dependent on fraud type.\n",
    "### **Results:**\n",
    "- **Chi-Square Statistic:** 10.91  \n",
    "- **P-Value:** 0.1425  \n",
    "- **Degrees of Freedom:** 7  \n",
    "- **Decision:** Fail to Reject H₀\n",
    "\n",
    "### **Conclusion:**\n",
    "- The test indicates **no statistically significant relationship** between the type of fraud and whether it is preventable.\n",
    "- This implies that **fraud preventability is not strongly influenced by the fraud category** itself.\n",
    "- Regardless of whether the case is **payment fraud, identity theft, or investment fraud**, the chances of prevention appear relatively consistent across types.\n",
    "- Future models should explore **other variables** such as transaction stage, authentication level, or system architecture for targeting preventable cases more effectively.\n"
   ]
  },
  {
   "cell_type": "markdown",
   "metadata": {},
   "source": [
    "## 🔍 **Key Insights from EDA**\n",
    "\n",
    "- **Total Number of Fraud Cases in Ontario:** `43,680`  \n",
    "  This directly supports the current state defined in **Step 1** of TBP: Ontario experiences the highest number of fraud cases in Canada.\n",
    "\n",
    "- **Top Fraud Types by Volume:**\n",
    "  - **Payment Fraud:** 10,920 cases\n",
    "  - **Investment Fraud:** 8,736 cases\n",
    "  - **Identity Fraud & Online Shopping:** 6,552 cases each\n",
    "  - Other fraud types such as Employment, Health, Government-Related, and Miscellaneous make up smaller but still notable proportions.\n",
    "\n",
    "- **Fraud Loss Amounts by Type (Average):**\n",
    "  - **Investment Fraud** leads in financial damage with an average loss of **$27,584**.\n",
    "  - **Government-Related** and **Employment Fraud** also show high average losses: **$10,335** and **$8,049** respectively.\n",
    "  - Surprisingly, **Payment Fraud**, despite its high frequency, shows **lower average financial loss** (~$2,550), suggesting smaller but more frequent transactions.\n",
    "\n",
    "- **Descriptive Statistics Across Dataset:**\n",
    "  - **Average Transaction Loss:** $8,724 (min: $20.5, max: ~$49,990)\n",
    "  - **Age of Victims:** Ranges from 18 to 80, with a mean age of ~49 years.\n",
    "  - **Risk Scores:** Centered around 0.58, indicating moderately high-risk detection trends.\n",
    "  \n",
    "- **Fraud Channels:**  \n",
    "  Fraud incidents were reported through various channels, with **phone and email** being the most commonly exploited vectors.\n",
    "\n",
    "\n",
    "## **Hypothesis Testing: Fraud Type vs Preventability**\n",
    "\n",
    "### **Hypothesis Formulation:**\n",
    "- **H₀ (Null Hypothesis):** Fraud preventability is independent of fraud type.  \n",
    "- **H₁ (Alternative Hypothesis):** Fraud preventability is dependent on fraud type.\n",
    "\n",
    "### **Test Results:**\n",
    "- **Chi-Square Statistic:** 10.91  \n",
    "- **P-Value:** 0.1425  \n",
    "- **Degrees of Freedom:** 7  \n",
    "- **Decision:** Fail to Reject H₀\n",
    "\n",
    "### **Conclusion:**\n",
    "- There is **no statistically significant relationship** between the fraud type and whether or not it was preventable.\n",
    "- This implies that **fraud prevention does not vary significantly** based on the type of fraud.\n",
    "- Future fraud detection improvements may need to focus on **transaction behavior**, **risk score patterns**, or **real-time detection timing**, rather than categorization by fraud type alone.\n",
    "\n"
   ]
  },
  {
   "cell_type": "markdown",
   "metadata": {},
   "source": []
  }
 ],
 "metadata": {
  "kernelspec": {
   "display_name": "Python 3",
   "language": "python",
   "name": "python3"
  },
  "language_info": {
   "codemirror_mode": {
    "name": "ipython",
    "version": 3
   },
   "file_extension": ".py",
   "mimetype": "text/x-python",
   "name": "python",
   "nbconvert_exporter": "python",
   "pygments_lexer": "ipython3",
   "version": "3.11.9"
  }
 },
 "nbformat": 4,
 "nbformat_minor": 2
}
